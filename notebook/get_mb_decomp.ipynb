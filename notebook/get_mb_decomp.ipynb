{
 "cells": [
  {
   "cell_type": "code",
   "execution_count": null,
   "metadata": {
    "collapsed": true
   },
   "outputs": [],
   "source": [
    "import itertools as it\n",
    "import sys\n",
    "import os\n",
    "import math"
   ]
  },
  {
   "cell_type": "code",
   "execution_count": null,
   "metadata": {
    "collapsed": true
   },
   "outputs": [],
   "source": [
    "#if len(sys.argv) != 3:\n",
    "#    print(\"Usage: python3 \" + sys.argv[0] + \" N  mode\" )\n",
    "#    print(\"N is the max N-body contribution you want\")\n",
    "#    sys.exit(1)\n",
    "#nbmaxg = int(sys.argv[1])\n",
    "#mode = int(sys.argv[2])\n",
    "mode = 1\n",
    "atlistg = [3,3,3,3,3]\n",
    "opt_mon_eng = [-185.06839054,-185.06839054,-185.06839054,-185.06839054,-185.06839054]\n",
    "#atlist = [3,3]\n",
    "#opt_mon_en = [-186.561257471,-186.561257471]\n",
    "nbmaxg = 5\n",
    "\n",
    "nb = len(atlistg)"
   ]
  },
  {
   "cell_type": "code",
   "execution_count": null,
   "metadata": {
    "collapsed": true
   },
   "outputs": [],
   "source": [
    "def get_mb(nbmax,atlist,opt_mon_en):\n",
    "    # Getting data we will need\n",
    "    nb = len(atlist)\n",
    "    nm = []\n",
    "    monsN = range(1,nb + 1)\n",
    "    combs = []\n",
    "    for i in range(1,nb+1):\n",
    "        combs.append(list(it.combinations(monsN,i)))\n",
    "        nm.append(len(combs[i-1]))\n",
    "    # Store energies\n",
    "    energies = []\n",
    "    for i in range(nbmax):\n",
    "        foldname = str(i + 1) + \"b\"\n",
    "        nbEn = []\n",
    "        for j in range(nm[i]):\n",
    "            fold = foldname + \"/\" + str(j+1)\n",
    "            ff = open(fold + \"/input.energy\", 'r')\n",
    "            nbEn.append(float(ff.readline().split()[0]))\n",
    "        energies.append(nbEn)\n",
    "    # Get 1b\n",
    "    enb = []\n",
    "    e = []\n",
    "    for i in range(nm[0]):\n",
    "        e.append(energies[0][i] - opt_mon_en[i])\n",
    "\n",
    "    enb.append(e)\n",
    "    \n",
    "    # Get the many-body contributions (>1B)\n",
    "    # Loop overall the nb contributions\n",
    "    for nbx in range(1,nbmax):\n",
    "        n = nbx + 1\n",
    "        # Get the nbx-yh body contribution for each fragment\n",
    "        e = []\n",
    "        for frag in combs[nbx]:\n",
    "            sumE = []\n",
    "            e.append(0.0)\n",
    "            x = len(e) - 1\n",
    "            # Loop over all the nth subfragments of the cluster\n",
    "            for k in range(1,len(frag) + 1):\n",
    "                sumE.append(0.0)\n",
    "                icomb = list(it.combinations(frag,k))\n",
    "                for l2 in range(len(icomb)):\n",
    "                    for l in range(1,len(combs[k - 1]) + 1):\n",
    "                        filename = str(k) + \"b/\" + str(l) + \"/input.xyz\"\n",
    "                        ff = open(filename)\n",
    "                        ff.readline()\n",
    "                        refcomb = ff.readline().split()\n",
    "                        ff.close()\n",
    "                        refcomb = [int(i) for i in refcomb]\n",
    "                        if sorted(refcomb) == sorted(list(icomb[l2])):\n",
    "                            sumE[k-1] += energies[k-1][l-1]\n",
    "                            break\n",
    "            Nmax = len(frag)\n",
    "            for m2 in range(n):\n",
    "                m = m2 + 1\n",
    "                one = pow(-1,Nmax - m )\n",
    "                a = math.factorial(Nmax - m )\n",
    "                b = math.factorial(k - m)\n",
    "                c = math.factorial(Nmax - k)\n",
    "                g = one * a / b / c\n",
    "                e[x ] += g * sumE[m2]\n",
    "        enb.append(e)\n",
    "    return enb"
   ]
  },
  {
   "cell_type": "code",
   "execution_count": null,
   "metadata": {
    "collapsed": true
   },
   "outputs": [],
   "source": []
  },
  {
   "cell_type": "code",
   "execution_count": null,
   "metadata": {
    "collapsed": true
   },
   "outputs": [],
   "source": [
    "\n",
    "        "
   ]
  },
  {
   "cell_type": "code",
   "execution_count": null,
   "metadata": {},
   "outputs": [],
   "source": [
    "if mode == 1 or mode == 2:\n",
    "\n",
    "    enb = get_mb(nbmaxg,atlistg,opt_mon_eng)\n",
    "\n",
    "    # Printing results\n",
    "    be = 0.0\n",
    "    for i in range(len(enb)):\n",
    "        enb[i] = [k * 627.503 for k in enb[i]]\n",
    "        be += sum(enb[i])\n",
    "        print(str(i+1) + \"b = \" + str(sum(enb[i])))\n",
    "    if nbmaxg == nb:\n",
    "        print(\"Interaction Energy = \" + str(be - sum(enb[0])))\n",
    "        print(\"Binding Energy     = \" + str(be))\n",
    "    for i in range(len(enb)):\n",
    "        print(\" \")\n",
    "        print(\"Individual \" + str(i+1) + \"-body contributions:\")\n",
    "        for j in range(len(enb[i])):\n",
    "            print(\"Fragment \" + str(j+1) + \": \" + str(enb[i][j]) )\n",
    "\n",
    "elif mode == 3:\n",
    "    nb = len(atlistg)\n",
    "    nm = []\n",
    "    monsN = range(1,nb + 1)\n",
    "    comb = []\n",
    "    enb = []\n",
    "    for i in range(1,nb+1):\n",
    "        comb.append(list(it.combinations(monsN,i)))\n",
    "        nm.append(len(comb[i-1]))\n",
    "    for i in range(nbmaxg):\n",
    "        enb.append([])\n",
    "        foldname = str(i + 1) + \"b\"\n",
    "        for j in range(len(comb[i])):\n",
    "            atl = []\n",
    "            monen = []\n",
    "            for k in range(len(comb[i][j])):\n",
    "                atl.append(atlistg[comb[i][j][k] - 1])\n",
    "                monen.append(opt_mon_eng[comb[i][j][k]] - 1)\n",
    "            os.chdir(foldname + \"/\" + str(j+1))\n",
    "            enbx = get_mb(i+1,atl,monen)\n",
    "            enb[i].append(enbx[i][0])\n",
    "            os.chdir(\"../../\")\n",
    "            \n",
    "    # Printing results\n",
    "    be = 0.0\n",
    "    for i in range(len(enb)):\n",
    "        enb[i] = [k * 627.503 for k in enb[i]]\n",
    "        be += sum(enb[i])\n",
    "        print(str(i+1) + \"b = \" + str(sum(enb[i])))\n",
    "    if nbmaxg == nb:\n",
    "        print(\"Interaction Energy = \" + str(be - sum(enb[0])))\n",
    "        print(\"Binding Energy     = \" + str(be))\n",
    "    for i in range(len(enb)):\n",
    "        print(\" \")\n",
    "        print(\"Individual \" + str(i+1) + \"-body contributions:\")\n",
    "        for j in range(len(enb[i])):\n",
    "            print(\"Fragment \" + str(j+1) + \": \" + str(enb[i][j]) )\n",
    "\n",
    "\n",
    "\n",
    "   "
   ]
  },
  {
   "cell_type": "code",
   "execution_count": null,
   "metadata": {
    "collapsed": true
   },
   "outputs": [],
   "source": []
  },
  {
   "cell_type": "code",
   "execution_count": null,
   "metadata": {
    "collapsed": true
   },
   "outputs": [],
   "source": []
  }
 ],
 "metadata": {
  "kernelspec": {
   "display_name": "Python 3",
   "language": "python",
   "name": "python3"
  },
  "language_info": {
   "codemirror_mode": {
    "name": "ipython",
    "version": 3
   },
   "file_extension": ".py",
   "mimetype": "text/x-python",
   "name": "python",
   "nbconvert_exporter": "python",
   "pygments_lexer": "ipython3",
   "version": "3.6.3"
  }
 },
 "nbformat": 4,
 "nbformat_minor": 2
}
